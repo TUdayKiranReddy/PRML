{
 "cells": [
  {
   "cell_type": "markdown",
   "metadata": {
    "id": "wVmT47LOBy6i"
   },
   "source": [
    " <center> <h1> <b> Pattern Recognition and Machine Learning (EE5607) </b> </h1> </center>\n",
    "\n",
    "<b> Programming Assignment - 04 - Neural Networks</b>\n",
    "\n",
    "<b> Instructions </b>\n",
    "1. Plagiarism is strictly prohibited.\n",
    "2. Delayed submissions will be penalized with a scaling factor of 0.5 per day.\n",
    "3. Please DO NOT use any machine learning libraries unless and otherwise specified.\n",
    "\n",
    "\n",
    "\n",
    "<b> Assignment on Neural Networks </b> <br>\n",
    "This programming assignment gives you a chance to perform the classification task using neural networks. You will get to build a neural network from scratch and train and test it on a standard classification dataset. Further you will learn different tricks and techniques to train a neural network eficiently by observing few important issues and trying to overcome them. This includes observing the performance of the network for different activation functions and optimization algorithms. We will conclude with implementation of various regularization techniques and ResNet to overcome the problems of overfitting and vanishing gradients."
   ]
  },
  {
   "cell_type": "code",
   "execution_count": 1,
   "metadata": {
    "id": "Exk1ALx4LXWA"
   },
   "outputs": [],
   "source": [
    "#All imports\n",
    "import numpy as np\n",
    "from mpl_toolkits.mplot3d import Axes3D\n",
    "import matplotlib.pyplot as plt\n",
    "import collections"
   ]
  },
  {
   "cell_type": "markdown",
   "metadata": {
    "id": "LYAp-ibURvdd"
   },
   "source": [
    "<b>  Part - (1) : Train a classification network from scratch </b> \n",
    "1. Load MNIST data and create train, test splits\n",
    "2. Design a simple classification network\n",
    "\n",
    "\n",
    "> Network should consists of three Dense Layers with 512 nodes. The same architecture is used throughout the assignment to understand the effect of hyper parameters.\n",
    "\n",
    "> Use stochastic gradient descent optimization algorithm to update the parameters. You can use the learning rate suitable for the MNIST digit classification problem.\n",
    "\n",
    "> Use ReLU activation function in the first two layers. Softmax activation function should be used at the last layer to get the posterior probability of the classes.\n",
    "\n",
    "\n",
    "\n",
    "\n",
    "\n",
    "\n",
    "3. Train the network using MNIST training data and evaluate the performance on MNIST test data\n",
    "\n"
   ]
  },
  {
   "cell_type": "code",
   "execution_count": 67,
   "metadata": {},
   "outputs": [
    {
     "name": "stdout",
     "output_type": "stream",
     "text": [
      "Size of X_train := (60000, 784), Y_train := (60000, 1)\n",
      "Size of X_test := (10000, 784), Y_test := (10000, 1)\n"
     ]
    }
   ],
   "source": [
    "##################################################\n",
    "#Load MNIST data.\n",
    "##################################################\n",
    "\n",
    "\n",
    "from mlxtend.data import loadlocal_mnist\n",
    "import matplotlib.pyplot as plt\n",
    "\n",
    "# drive.mount('/content/drive',force_remount=True)\n",
    "# root_path='/content/drive/MyDrive/PRMLAssignments/ProgrammingAssignment-01'\n",
    "root_path='/home/solomon/dataset'\n",
    "train_data_path = str(root_path) + \"/\" + 'train-images.idx3-ubyte'\n",
    "train_label_path = str(root_path) + \"/\" + 'train-labels.idx1-ubyte'\n",
    "test_data_path = str(root_path) + \"/\" + 't10k-images.idx3-ubyte'\n",
    "test_label_path = str(root_path) + \"/\" + 't10k-labels.idx1-ubyte'\n",
    "X_train, Y_train = loadlocal_mnist(images_path=train_data_path, labels_path=train_label_path)\n",
    "X_test, Y_test = loadlocal_mnist(images_path=test_data_path, labels_path=test_label_path)\n",
    "\n",
    "Y_train = Y_train.reshape(-1, 1)\n",
    "Y_test = Y_test.reshape(-1, 1)\n",
    "print(\"Size of X_train := {}, Y_train := {}\".format(X_train.shape, Y_train.shape))\n",
    "print(\"Size of X_test := {}, Y_test := {}\".format(X_test.shape, Y_test.shape))\n",
    "\n",
    "def create_batches(X, Y, BatchSize):\n",
    "    N, Dx = X.shape\n",
    "    _, Dy = Y.shape\n",
    "    \n",
    "    # shuffling\n",
    "    idxs = np.arange(N)\n",
    "    np.random.shuffle(idxs)\n",
    "    X = X[idxs, :]\n",
    "    Y = Y[idxs, :]\n",
    "    \n",
    "    nBatches = int(np.ceil(N/BatchSize))\n",
    "    \n",
    "    X_batched = np.zeros((nBatches, BatchSize, Dx))\n",
    "    Y_batched = np.zeros((nBatches, BatchSize, Dy))\n",
    "    \n",
    "    for i in range(nBatches-1):\n",
    "        X_batched[i, :, :] = X[(i*BatchSize):((i+1)*BatchSize)]\n",
    "        Y_batched[i, :, :] = Y[(i*BatchSize):((i+1)*BatchSize)]\n",
    "    \n",
    "    if N%BatchSize != 0:\n",
    "        nlack = BatchSize - (N%BatchSize)\n",
    "        X_batched[nBatches-1, :, :] = np.vstack((X[((nBatches-1)*BatchSize):(nBatches*BatchSize)], X[:nlack]))\n",
    "        Y_batched[nBatches-1, :, :] = np.vstack((Y[((nBatches-1)*BatchSize):(nBatches*BatchSize)], Y[:nlack]))\n",
    "    else:\n",
    "        X_batched[nBatches-1, :, :] = X[((nBatches-1)*BatchSize):(nBatches*BatchSize)]\n",
    "        Y_batched[nBatches-1, :, :] = Y[((nBatches-1)*BatchSize):(nBatches*BatchSize)]\n",
    "\n",
    "    return X_batched, Y_batched\n",
    "\n",
    "def one_hot_encode(Y, nClasses):\n",
    "    Y_one = np.zeros((Y.shape[0], nClasses), dtype=int)\n",
    "    for i in range(nClasses):\n",
    "        ones = np.zeros(nClasses)\n",
    "        ones[i] = 1\n",
    "        Y_one[(Y == i)[:, 0], :] = ones\n",
    "    \n",
    "    return Y_one\n",
    "\n",
    "Y_train_one = one_hot_encode(Y_train, 10)\n",
    "Y_test_one = one_hot_encode(Y_test, 10)"
   ]
  },
  {
   "cell_type": "code",
   "execution_count": 98,
   "metadata": {},
   "outputs": [],
   "source": [
    "##################################################\n",
    "#Build the architecture\n",
    "##################################################\n",
    "\n",
    "def golrot(fan_in, fan_out):\n",
    "    std_dev = np.sqrt(2/(fan_in + fan_out))\n",
    "    W = np.random.normal(scale=std_dev, size=(fan_in, fan_out))\n",
    "    return W\n",
    "    \n",
    "def ReLu(X):\n",
    "    return np.maximum(X, np.zeros(X.shape))\n",
    "\n",
    "def grad_ReLu(X):\n",
    "    grad = np.zeros(X.shape)\n",
    "    grad[X > 0] = 1\n",
    "    return grad\n",
    "    \n",
    "# def softmax(x, temp=1.0):\n",
    "#     e = np.exp(x/temp)\n",
    "#     s = np.sum(e, axis=1).reshape(-1, 1)\n",
    "#     return e/s\n",
    "\n",
    "def softmax(x):\n",
    "    e = np.exp(x - np.max(x, axis=1, keepdims=True))\n",
    "    s = np.sum(e, axis=1, keepdims=True)\n",
    "    return e/s\n",
    "\n",
    "def cross_entropy(y_hat, y):\n",
    "    return -1*np.sum(y *np.log(y_hat + np.finfo(float).eps))\n",
    "\n",
    "def accuracy(y_hat, y):\n",
    "    \n",
    "    Y_pred = np.argmax(y_hat, axis=1)\n",
    "    Y = np.argmax(y, axis=1)\n",
    "    \n",
    "    return np.mean(Y_pred == Y)*100\n",
    "\n",
    "class custom_DNN():\n",
    "    def __init__(self, input_size, num_classes):\n",
    "        self.input_size = input_size\n",
    "        self.inter_size = 512\n",
    "        self.nClasses = num_classes\n",
    "        \n",
    "        self.W1 = golrot(self.input_size + 1, self.inter_size + 1)\n",
    "        self.W2 = golrot(self.inter_size + 1, self.inter_size + 1)\n",
    "        self.W3 = golrot(self.inter_size + 1, self.nClasses)\n",
    "        \n",
    "        self.Y1 = None\n",
    "        self.Y2 = None\n",
    "        self.Y3 = None\n",
    "        self.Z0 = None\n",
    "        self.Z1 = None\n",
    "        self.Z2 = None\n",
    "        self.Z3 = None\n",
    "        \n",
    "    def forward(self, X):\n",
    "        B, I = X.shape\n",
    "        \n",
    "        # Input Layer\n",
    "        self.Z0 = np.hstack((X, np.ones((B, 1))))\n",
    "        \n",
    "        # Layer 1\n",
    "        self.Y1 = self.Z0@self.W1\n",
    "        self.Z1 = ReLu(self.Y1)\n",
    "        \n",
    "        # Layer 2\n",
    "        self.Y2 = self.Z1@self.W2\n",
    "        self.Z2 = ReLu(self.Y2)\n",
    "        \n",
    "        # Output Layer\n",
    "        self.Y3 = self.Z2@self.W3\n",
    "        logits = softmax(self.Y3)\n",
    "        \n",
    "        return logits\n",
    "    \n",
    "    def sgd_update(self, logits, Y, eta=1e-3, regularisation = 1e-3):\n",
    "        loss = cross_entropy(logits, Y) + 0.5*regularisation*np.sum(np.power(net.get_weights_norm(), 2))\n",
    "        \n",
    "        error = (Y - logits)\n",
    "        \n",
    "        \n",
    "        delta_3 = error\n",
    "#         print(delta_3.shape, self.W3.shape, grad_ReLu(self.Y3).shape)\n",
    "        delta_2 = np.multiply((delta_3@self.W3.T), grad_ReLu(self.Y2))\n",
    "        delta_1 = np.multiply((delta_2@self.W2.T), grad_ReLu(self.Y1))\n",
    "        \n",
    "        grad_W3 = self.Z2.T @ delta_3 + regularisation*self.W3\n",
    "        grad_W2 = self.Z1.T @ delta_2 + regularisation*self.W2\n",
    "        grad_W1 = self.Z0.T @ delta_1 + regularisation*self.W1\n",
    "        \n",
    "        self.W3 -= eta*grad_W3\n",
    "        self.W2 -= eta*grad_W2\n",
    "        self.W1 -= eta*grad_W1\n",
    "        \n",
    "        return loss\n",
    "    \n",
    "    def get_weights_norm(self):\n",
    "        return [np.linalg.norm(self.W1), np.linalg.norm(self.W2), np.linalg.norm(self.W3)]"
   ]
  },
  {
   "cell_type": "code",
   "execution_count": null,
   "metadata": {
    "scrolled": false
   },
   "outputs": [
    {
     "name": "stdout",
     "output_type": "stream",
     "text": [
      "weights [24.919420901033952, 22.663582975435574, 4.420980555164294] Validation Accuracy = 7.92, Validation Loss = 313561.0159\n",
      "weights [24.91964325356267, 22.663827510254485, 4.422233828625354]Validation Accuracy = 8.87, Validation Loss = 319270.3567\n",
      "weights [24.920013872775833, 22.664235105252786, 4.424322032496713] Validation Accuracy = 10.24, Validation Loss = 323056.621\n"
     ]
    }
   ],
   "source": [
    "##################################################\n",
    "#Train the network\n",
    "##################################################\n",
    "nEpochs = 10\n",
    "step = 0\n",
    "batchSize = 32\n",
    "validFrequency = 150 # After every 50th batch\n",
    "\n",
    "net = custom_DNN(784, 10)\n",
    "\n",
    "trainLosses = []\n",
    "trainAccuracy = []\n",
    "validLosses = []\n",
    "validAccuracy = []\n",
    "weights = []\n",
    "\n",
    "while step < nEpochs:\n",
    "    X_batched, Y_batched = create_batches(X_train, Y_train_one, batchSize)\n",
    "    for i, (X, Y) in enumerate(zip(X_batched, Y_batched)):\n",
    "#         print(net.get_weights_norm())\n",
    "        logits = net.forward(X)\n",
    "        loss = net.sgd_update(logits, Y, eta=1e-8)\n",
    "        \n",
    "        trainLosses.append(loss)\n",
    "        trainAccuracy.append(accuracy(logits, Y))\n",
    "        weights.append(net.get_weights_norm())\n",
    "#         print(net.Y3[0, :])\n",
    "#         print(logits[0, :])\n",
    "#         print(Y[0, :])\n",
    "        \n",
    "#         break\n",
    "        if (i)%validFrequency == 0:\n",
    "            predLogits = net.forward(X_test)\n",
    "            validLosses.append(cross_entropy(predLogits, Y_test_one))\n",
    "            validAccuracy.append(accuracy(predLogits, Y_test_one))\n",
    "            print(\"EPOCH [{}/{}]:- Training Accuracy = {}, Training Loss = {}, Validation Accuracy = {}, Validation Loss = {}\".format(step+1, nEpochs, np.round(trainAccuracy[-1], 2), np.round(trainLosses[-1], 4), np.round(validAccuracy[-1], 2), np.round(validLosses[-1], 4)), end=\"\\r\")\n",
    "#             print(\"weights\", weights[-1])\n",
    "#             print(logits[0, :])\n",
    "#             print(Y[0, :])\n",
    "    print(\"\")\n",
    "    step += 1\n"
   ]
  },
  {
   "cell_type": "code",
   "execution_count": null,
   "metadata": {
    "id": "3FErnHowTi4_"
   },
   "outputs": [],
   "source": [
    "##################################################\n",
    "#Test the network and write down the performance\n",
    "##################################################\n",
    "\n",
    "\n",
    "\n",
    "\n",
    "\n",
    "\n",
    "\n",
    "\n",
    "\n",
    "\n",
    "\n",
    "\n"
   ]
  },
  {
   "cell_type": "markdown",
   "metadata": {
    "id": "7AUF8zcrO1kd"
   },
   "source": [
    "<b> Part - (2) : Understanding activation functions </b>\n",
    "\n",
    "In this part you will learn to use different activation functions for the classification task and compare their performances.\n",
    "\n",
    "1. Train MNIST digit classification problem with different activation functions i.e. Sigmoid, Tanh, ReLU, LeakyReLU etc. You can stick to stochastic gradient descent optimization algorithm for this part\n",
    "2. Report the accuray on MNIST test data for all the experiments. Write down your observations in the report.</br>\n",
    "NOTE: You can use the classification network designed by you from scratch (or) you can build the model using pytorch.\n",
    "\n"
   ]
  },
  {
   "cell_type": "code",
   "execution_count": null,
   "metadata": {},
   "outputs": [],
   "source": [
    "##################################################\n",
    "#Train the network with different activation functions\n",
    "##################################################\n",
    "\n",
    "\n",
    "\n",
    "\n",
    "\n",
    "\n",
    "\n",
    "\n"
   ]
  },
  {
   "cell_type": "code",
   "execution_count": null,
   "metadata": {
    "id": "tO4gAAtCPZgO"
   },
   "outputs": [],
   "source": [
    "##################################################\n",
    "#Write down the accuracies and report your observations\n",
    "##################################################\n",
    "\n",
    "\n",
    "\n",
    "\n",
    "\n",
    "\n",
    "\n",
    "\n",
    "\n",
    "\n"
   ]
  },
  {
   "cell_type": "markdown",
   "metadata": {
    "id": "ENZXVRQ9QsgV"
   },
   "source": [
    "<b> Part - (3) : Understanding optimization algorithms </b>\n",
    "\n",
    "In this part you will learn to use different optimiztion algorithm apart from SGD.\n",
    "\n",
    "1. Using the best activation function from Part - (2), train the classification network using Adam optimization algorithm.\n",
    "3. Compare the accuracy of the networks trained with SGD and Adam optimization algorithms.\n",
    "4. Report your observations."
   ]
  },
  {
   "cell_type": "code",
   "execution_count": null,
   "metadata": {},
   "outputs": [],
   "source": [
    "##################################################\n",
    "#Train the network using Adam optimizer\n",
    "##################################################\n",
    "\n",
    "\n",
    "\n",
    "\n",
    "\n",
    "\n",
    "\n",
    "\n",
    "\n"
   ]
  },
  {
   "cell_type": "code",
   "execution_count": null,
   "metadata": {},
   "outputs": [],
   "source": [
    "##################################################\n",
    "#Test the network\n",
    "##################################################\n",
    "\n",
    "\n",
    "\n",
    "\n",
    "\n",
    "\n",
    "\n",
    "\n"
   ]
  },
  {
   "cell_type": "code",
   "execution_count": null,
   "metadata": {
    "id": "U5PTJVaVWUQY"
   },
   "outputs": [],
   "source": [
    "##################################################\n",
    "#Compare the accuracies an deport your observations\n",
    "##################################################\n",
    "\n",
    "\n",
    "\n",
    "\n",
    "\n",
    "\n"
   ]
  },
  {
   "cell_type": "markdown",
   "metadata": {
    "id": "2FXj11mJO_Dd"
   },
   "source": [
    "<b> Part - (4) : Understanding regularization methods </b>\n",
    "\n",
    "In this part of the assignment, you will learn about a few regularization techniques to reduce the overfitting problem.</br>\n",
    "Using the above built network, inculcate the following techniques to reduce the overfitting by retraining the network efficiently. Write down the accuracies for each case.\n",
    "\n",
    "1. Weight regularization\n",
    "2. Dropout with a probability of 0.5\n",
    "3. Early stopping\n"
   ]
  },
  {
   "cell_type": "code",
   "execution_count": null,
   "metadata": {},
   "outputs": [],
   "source": [
    "##################################################\n",
    "#Training with weight regularization\n",
    "##################################################\n",
    "\n",
    "\n",
    "\n",
    "\n",
    "\n",
    "\n",
    "\n",
    "\n",
    "\n",
    "\n"
   ]
  },
  {
   "cell_type": "code",
   "execution_count": null,
   "metadata": {},
   "outputs": [],
   "source": [
    "##################################################\n",
    "#Training with dropout strategy\n",
    "##################################################\n",
    "\n",
    "\n",
    "\n",
    "\n",
    "\n",
    "\n",
    "\n",
    "\n",
    "\n"
   ]
  },
  {
   "cell_type": "code",
   "execution_count": null,
   "metadata": {
    "id": "Y7ZBi56TPb33"
   },
   "outputs": [],
   "source": [
    "##################################################\n",
    "#Training with early stopping criterion\n",
    "##################################################\n",
    "\n",
    "\n",
    "\n",
    "\n"
   ]
  },
  {
   "cell_type": "markdown",
   "metadata": {
    "id": "bpmShRO0PdW3"
   },
   "source": [
    "<b> Part - (5) : Understanding vanishing gradients problem </b> </br>\n",
    "Use the best trained models in part (4) to understand the problem of vanishing gradient.\n",
    "1. Plot the norm of the gradients for various layers with/without weight regularization\n",
    "3. Repeat the same experiments with skip connections. You can choose your desired skip connections in the network by increasing the number of hidden layers.\n",
    "4. Report your observations on the differences between the plots in the above two cases."
   ]
  },
  {
   "cell_type": "code",
   "execution_count": null,
   "metadata": {},
   "outputs": [],
   "source": [
    "##################################################\n",
    "#Plots without skip connections\n",
    "##################################################\n",
    "\n",
    "\n",
    "\n",
    "\n",
    "\n",
    "\n",
    "\n",
    "\n",
    "\n",
    "\n",
    "\n"
   ]
  },
  {
   "cell_type": "code",
   "execution_count": null,
   "metadata": {},
   "outputs": [],
   "source": [
    "##################################################\n",
    "#Plots with skip connections\n",
    "##################################################\n",
    "\n",
    "\n",
    "\n",
    "\n",
    "\n",
    "\n"
   ]
  },
  {
   "cell_type": "code",
   "execution_count": null,
   "metadata": {
    "id": "aQ9J-tcBQYg0"
   },
   "outputs": [],
   "source": [
    "##################################################\n",
    "#Observations\n",
    "##################################################\n",
    "\n",
    "\n",
    "\n",
    "\n",
    "\n",
    "\n"
   ]
  }
 ],
 "metadata": {
  "colab": {
   "collapsed_sections": [],
   "name": "PRML_Assignment04.ipynb",
   "provenance": []
  },
  "kernelspec": {
   "display_name": "Python 3",
   "language": "python",
   "name": "python3"
  },
  "language_info": {
   "codemirror_mode": {
    "name": "ipython",
    "version": 3
   },
   "file_extension": ".py",
   "mimetype": "text/x-python",
   "name": "python",
   "nbconvert_exporter": "python",
   "pygments_lexer": "ipython3",
   "version": "3.8.10"
  }
 },
 "nbformat": 4,
 "nbformat_minor": 1
}
