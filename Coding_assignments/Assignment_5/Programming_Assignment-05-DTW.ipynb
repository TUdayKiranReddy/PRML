{
 "cells": [
  {
   "cell_type": "markdown",
   "metadata": {
    "id": "wVmT47LOBy6i"
   },
   "source": [
    " <center> <h1> <b> Pattern Recognition and Machine Learning (EE5607) </b> </h1> </center>\n",
    "\n",
    "<b> Programming Assignment - 05 - Isolated digit recognition using Dynamic Time Warping (DTW) algorithm </b>\n",
    "\n",
    "<b> Instructions </b>\n",
    "1. Plagiarism is strictly prohibited.\n",
    "2. Delayed submissions will be penalized with a scaling factor of 0.5 per day.\n",
    "3. Please DO NOT use any machine learning libraries unless and otherwise specified.\n",
    "\n",
    "\n",
    "\n",
    "<b> Assignment on Dynamic Time Warping </b> <br>\n",
    "We expect you to code the dynamic time warping algorithm from scratch in this programming assignment. The skeleton code is provided for you to understand the algorithm. At the end of the assignment, you need to write an algorithm to perform an isolated digit recognition task using Dynamic Time Warping (DTW) codes. Isolated digit recognition is the task of recognizing the digit from the test speech signal having a single digit in isolation. "
   ]
  },
  {
   "cell_type": "code",
   "execution_count": 3,
   "metadata": {
    "id": "Exk1ALx4LXWA"
   },
   "outputs": [],
   "source": [
    "#All imports\n",
    "import numpy as np\n",
    "from mpl_toolkits.mplot3d import Axes3D\n",
    "import matplotlib.pyplot as plt\n",
    "import collections"
   ]
  },
  {
   "cell_type": "markdown",
   "metadata": {
    "id": "Ai937Y2W9ErU"
   },
   "source": [
    "**Part1**\n",
    "\n",
    "In this part of the assignment, you need to code the DTW algorithm from scratch. \n",
    "\n",
    "1. Given two templates, Write a dynamic time warping algorithm to obtain the optimal distance between them.\n",
    "\n",
    "> Compute the distance matrix between the two templates \n",
    "\n",
    "\n",
    "> Compute the accumulative distance matrix\n",
    "\n",
    "\n",
    "> Backtrack from the accumulative distance matrix to get the optimal path and thereby compute the optimal distance   \n",
    "\n",
    "\n",
    "> Plot the optimal path on both the distance matrix and cumulative distance matrix to verify the DTW codes\n",
    "\n"
   ]
  },
  {
   "cell_type": "code",
   "execution_count": 5,
   "metadata": {
    "id": "3FErnHowTi4_"
   },
   "outputs": [],
   "source": [
    "###########################################################\n",
    "#Function to obtain the optimal distance and path between two templates\n",
    "###########################################################\n",
    "def distance_func(t1, t2):\n",
    "  return np.linalg.norm(t1-t2)\n",
    "\n",
    "def DTW(template1,template2): \n",
    "    #######################################################\n",
    "    # Input  : Two templates \n",
    "    # Output : DTW path and optimal distance \n",
    "    #######################################################\n",
    "\n",
    "    M = template1.shape[1]\n",
    "    N = template2.shape[1]\n",
    "\n",
    "    #######################################################\n",
    "    # Code snippet to create the cumulative distance matrix\n",
    "    #######################################################\n",
    "    # Initialize the cumulative distance matrix\n",
    "    D = np.zeros((M, N))\n",
    "    for i in range(M):\n",
    "      for j in range(N):\n",
    "        D[i, j] = distance_func(template1[:, i], template2[:, j])\n",
    "      \n",
    "    DTW_cumulate_Matrix = np.ones((M, N))*np.inf # cummulative distance matrix\n",
    "    P = np.zeros((M, N)).astype(int)\n",
    "    DTW_cumulate_Matrix[0, 0] = D[0, 0]\n",
    "\n",
    "    for i in range(1, M):\n",
    "      DTW_cumulate_Matrix[i, 0] = D[i, 0] + DTW_cumulate_Matrix[i-1, 0]\n",
    "\n",
    "    for j in range(1, N):\n",
    "      DTW_cumulate_Matrix[0, j] = D[0, j] + DTW_cumulate_Matrix[0, j-1]\n",
    "\n",
    "    #Iterate through the sequence of features in templates and compute the distance between the templates.\n",
    "    for i in range(1, M): #you can start from 1 \n",
    "        for j in range(1, N):\n",
    "            current_distance = D[i, j]  # Compute the euclidean distance between the current feature vectors\n",
    "            \n",
    "            arr = np.array([DTW_cumulate_Matrix[i, j-1], DTW_cumulate_Matrix[i-1, j-1]], DTW_cumulate_Matrix[i-1, j])\n",
    "            P[i, j] = np.argmin(arr)\n",
    "\n",
    "            DTW_cumulate_Matrix[i, j] = current_distance + arr[P[i, j]]\n",
    "            #Add min(DTW_cumulate_Matrix[i-1,j],DTW_cumulate_Matrix[i-1,j-1],DTW_cumulate_Matrix[i,j-1]) to \"current_distance\" and assign it to \"DTW_cumulate_Matrix[i,j]\"\n",
    "\n",
    "    # #######################################################\n",
    "    # # Code snippet to find the optimal DTW path and the corresponding optimal distance\n",
    "    # #######################################################\n",
    "\n",
    "    i = M-1\n",
    "    j = N-1\n",
    "    path = [[i, j]]\n",
    "    \n",
    "    while i>0 and j>0:\n",
    "      if i==0:\n",
    "        j -= 1\n",
    "      elif j==0:\n",
    "        i -= 1\n",
    "      else:\n",
    "        if P[i, j] == 0:\n",
    "          j -= 1\n",
    "        elif P[i, j] == 1:\n",
    "          j -= 1\n",
    "          i -= 1\n",
    "        else:\n",
    "          i -= 1\n",
    "      path.append([i, j])\n",
    "\n",
    "\n",
    "    return path[::-1], DTW_cumulate_Matrix[M-1, N-1], P, D, DTW_cumulate_Matrix\n",
    "\n",
    "\n",
    "    #######################################################\n",
    "    # Return optimal distance and optimal dtw path\n",
    "    #######################################################\n",
    "\n",
    "\n",
    "\n",
    "\n",
    "\n",
    "def plotDTWpath(template1,template2):\n",
    "    #######################################################\n",
    "    # Inputs : template1 and template2\n",
    "    # Outputs : plot of optimal path on distance matrix and cumulative distance matrix \n",
    "    #######################################################\n",
    "\n",
    "    #Compute distance and cumulative distance between the given templates\n",
    "\n",
    "    path, _, _, D, cum = DTW(template1, template2)\n",
    "    px = [x[0] for x in path]\n",
    "    py = [y[1] for y in path]\n",
    "    #Obtain the optimal path using \"DTW\" function\n",
    "    plt.figure()\n",
    "    plt.title(\"Distance matrix\")\n",
    "    plt.imshow(D, interpolation=\"nearest\", cmap=\"Reds\")\n",
    "    plt.gca().invert_yaxis()\n",
    "    plt.xlabel(\"template 2\")\n",
    "    plt.ylabel(\"template 1\")\n",
    "    plt.plot(py, px, \"-*\")\n",
    "    plt.grid()\n",
    "    plt.colorbar();\n",
    "\n",
    "\n",
    "    plt.figure()\n",
    "    plt.title(\"Cummulative matrix\")\n",
    "    plt.imshow(cum, interpolation=\"nearest\", cmap=\"Reds\")\n",
    "    plt.gca().invert_yaxis()\n",
    "    plt.xlabel(\"template 2\")\n",
    "    plt.ylabel(\"template 1\")\n",
    "    plt.plot(py, px, \"-*\")\n",
    "    plt.grid()\n",
    "    plt.colorbar();\n",
    "\n",
    "    #Plot the optimal path on distance and cumulative matrices and verify the DTW code"
   ]
  },
  {
   "cell_type": "code",
   "execution_count": 6,
   "metadata": {},
   "outputs": [],
   "source": [
    "def DTW_viv(template1,template2): \n",
    "   #######################################################\n",
    "    # Input  : Two templates \n",
    "    # Output : DTW path and optimal distance \n",
    "    #####################################################          \n",
    "\n",
    "    #######################################################\n",
    "    # Code snippet to create the cumulative distance matrix\n",
    "    #######################################################\n",
    "\n",
    "    # Create initial cumulative distance matrix\n",
    "    DTW_cumulate_Matrix =  np.zeros((len(template1)+1,len(template2)+1))  # cummulative distance matrix\n",
    "    for i in range(len(template1)+1):\n",
    "      DTW_cumulate_Matrix[i,0] = np.inf\n",
    "    for i in range(len(template2)+1):\n",
    "      DTW_cumulate_Matrix[0,i] = np.inf\n",
    "    DTW_cumulate_Matrix[0,0] = 0    \n",
    "    # Iterate through the sequence of features in templates. Compute the measure ( \"euclidean distance\" or \"cosine distance\" ) \n",
    "    for i in range(1,len(template1)+1,1): #you can start from 1 \n",
    "        for j in range(1,len(template2)+1,1):   \n",
    "            euclidean_dist = np.linalg.norm((template1[i-1]-template2[j-1]),2) # Compute the euclidean distance  of feature vectors  Template1[i] and Template2[j]\n",
    "            mini = min(DTW_cumulate_Matrix[i-1,j-1],DTW_cumulate_Matrix[i-1,j],DTW_cumulate_Matrix[i,j-1])\n",
    "            DTW_cumulate_Matrix[i,j] = euclidean_dist + mini      \n",
    "            #Add the minimum distance in euclidean measure ( or maximum similarity in cosine scoring ) of ( DTW_cumulate_Matrix[i-1,j] , DTW_cumulate_Matrix[i-1,j-1], DTW_cumulate_Matrix[i,j-1] ) to \"current_measure\" and assign it to \"DTW_cumulate_Matrix\"\n",
    "\n",
    "\n",
    "\n",
    "    #######################################################\n",
    "    # Code snippet to find the dtw path and optimal distance\n",
    "    #######################################################\n",
    "\n",
    "    i =  len(template1)# length of reference template1\n",
    "    j =  len(template2)# length of test template2\n",
    "    opt_distance = DTW_cumulate_Matrix[i,j]\n",
    "    optimal_path = []\n",
    "    while i!=0 and j!=0: #Start from the last point and backtrack\n",
    "        #Get the indexes (i,j) of the small value among ( DTW_cumulate_Matrix[i-1,j] , DTW_cumulate_Matrix[i-1,j-1], DTW_cumulate_Matrix[i,j-1] )\n",
    "        #you may use \"np.argmin for eucludian ( or np.argmax for cosine ) \" function for doing it\n",
    "        optimal_path.append([i,j])\n",
    "        # Add the current indexes distance\n",
    "\n",
    "        # Store the i,j th index which gives the optimal dtw path\n",
    "        if DTW_cumulate_Matrix[i-1,j-1] <= DTW_cumulate_Matrix[i-1,j] and DTW_cumulate_Matrix[i-1,j-1] <= DTW_cumulate_Matrix[i,j-1]:\n",
    "          i=i-1\n",
    "          j=j-1\n",
    "        elif DTW_cumulate_Matrix[i-1,j] <= DTW_cumulate_Matrix[i-1,j-1] and DTW_cumulate_Matrix[i-1,j] <= DTW_cumulate_Matrix[i,j-1]:\n",
    "          i = i-1\n",
    "        else:\n",
    "          j = j-1 \n",
    "\n",
    "        # compute either \"euclidean distance\" or \"cosine similarity\" of feature vectors  MFCC1[i] and MFCC2[j]\n",
    "    return opt_distance,DTW_cumulate_Matrix,optimal_path"
   ]
  },
  {
   "cell_type": "code",
   "execution_count": 22,
   "metadata": {},
   "outputs": [
    {
     "data": {
      "image/png": "[encoded data removed]",
      "text/plain": [
       "<Figure size 432x288 with 1 Axes>"
      ]
     },
     "metadata": {
      "needs_background": "light"
     },
     "output_type": "display_data"
    }
   ],
   "source": [
    "# t1 = np.array([3, 1, 2, 2, 1])\n",
    "# t2 = np.array([2, 0, 0, 3, 3, 1, 0])\n",
    "\n",
    "n = 5\n",
    "x = np.linspace(0, 1, n)\n",
    "t1 = np.sin(2*np.pi*x)\n",
    "x = np.linspace(0, 1, n+3)\n",
    "t2 = np.sin(2*np.pi*x - np.pi/3)\n",
    "\n",
    "plt.figure()\n",
    "plt.plot(t1, label=\"template 1\")\n",
    "plt.plot(t2, label=\"template 2\")\n",
    "plt.legend()\n",
    "plt.show()\n",
    "\n",
    "\n",
    "path, opt_dist, p, D, cum = DTW(t1.reshape(1, -1), t2.reshape(1, -1))"
   ]
  },
  {
   "cell_type": "code",
   "execution_count": 23,
   "metadata": {},
   "outputs": [],
   "source": [
    "opt_distance,DTW_cumulate_Matrix,optimal_path = DTW_viv(t1.reshape(-1, 1), t2.reshape(-1, 1))"
   ]
  },
  {
   "cell_type": "code",
   "execution_count": 26,
   "metadata": {},
   "outputs": [
    {
     "name": "stdout",
     "output_type": "stream",
     "text": [
      "True\n"
     ]
    }
   ],
   "source": [
    "print(opt_dist == opt_distance)"
   ]
  },
  {
   "cell_type": "code",
   "execution_count": 25,
   "metadata": {},
   "outputs": [
    {
     "name": "stdout",
     "output_type": "stream",
     "text": [
      "1\n",
      "\n"
     ]
    },
    {
     "name": "stderr",
     "output_type": "stream",
     "text": [
      "<ipython-input-25-05595c5b43af>:1: DeprecationWarning: elementwise comparison failed; this will raise an error in the future.\n",
      "  print(np.sum(np.logical_not(np.array(optimal_path[::-1]) - 1 == np.array(path))))\n"
     ]
    }
   ],
   "source": [
    "print(np.sum(np.logical_not(np.array(optimal_path[::-1]) - 1 == np.array(path))))\n",
    "print()"
   ]
  },
  {
   "cell_type": "code",
   "execution_count": 27,
   "metadata": {},
   "outputs": [
    {
     "data": {
      "text/plain": [
       "array([[0, 0],\n",
       "       [0, 1],\n",
       "       [1, 2],\n",
       "       [1, 3],\n",
       "       [1, 4],\n",
       "       [2, 5],\n",
       "       [3, 6],\n",
       "       [4, 7]])"
      ]
     },
     "execution_count": 27,
     "metadata": {},
     "output_type": "execute_result"
    }
   ],
   "source": [
    "np.array(optimal_path[::-1]) - 1"
   ]
  },
  {
   "cell_type": "code",
   "execution_count": 28,
   "metadata": {},
   "outputs": [
    {
     "data": {
      "text/plain": [
       "array([[0, 1],\n",
       "       [1, 2],\n",
       "       [1, 3],\n",
       "       [1, 4],\n",
       "       [2, 5],\n",
       "       [3, 6],\n",
       "       [4, 7]])"
      ]
     },
     "execution_count": 28,
     "metadata": {},
     "output_type": "execute_result"
    }
   ],
   "source": [
    "np.array(path)"
   ]
  },
  {
   "cell_type": "markdown",
   "metadata": {
    "id": "7AUF8zcrO1kd"
   },
   "source": [
    "\n",
    "**Part2**\n",
    "\n",
    "In this part of the assignment, we expect you to build the isolated digit recognition system with the help of the above written DTW algorithm \n",
    "\n",
    "1. Record one repetition each of digits zero,one,two,three,four,five,six,seven,eight and nine. The modules to record the voice in online mode are provided here. If you are not comfortable using the online recording modules, you can record the digits offline and access them in google colab through proper codes.\n",
    "2. Record three further repetitions of the same digits (isolated words) as test data.  \n",
    "3. The codes to compute the signal's templates ( Mel Frequency Cepstral Coefficients ) are provided. Please use them to obtain the templates of the speech signals.   \n",
    "4. Write an algorithm to perform isolated word recognition with the help of the DTW codes\n",
    "5. Take two pairs such that one pair is the repetition of the same digit and another one is two different digits. Plot the optimal DTW path on distance and cumulative distance matrices for both cases.   \n",
    "6. Evaluate the digit recognition accuracy, i.e., the percentage of correctly recognized trials out of each digit's total number of attempts. \n",
    "7. Create a confusion matrix and report the most confusing digits. \n"
   ]
  },
  {
   "cell_type": "markdown",
   "metadata": {
    "id": "QMMbQSpZJR0B"
   },
   "source": [
    "**Module to record the voice in online mode**"
   ]
  },
  {
   "cell_type": "code",
   "execution_count": 1,
   "metadata": {
    "id": "8lauwRbcJQzM"
   },
   "outputs": [
    {
     "ename": "ModuleNotFoundError",
     "evalue": "No module named 'google.colab'",
     "output_type": "error",
     "traceback": [
      "\u001b[0;31m---------------------------------------------------------------------------\u001b[0m",
      "\u001b[0;31mModuleNotFoundError\u001b[0m                       Traceback (most recent call last)",
      "Input \u001b[0;32mIn [1]\u001b[0m, in \u001b[0;36m<cell line: 2>\u001b[0;34m()\u001b[0m\n\u001b[1;32m      1\u001b[0m \u001b[38;5;28;01mfrom\u001b[39;00m \u001b[38;5;21;01mIPython\u001b[39;00m\u001b[38;5;21;01m.\u001b[39;00m\u001b[38;5;21;01mdisplay\u001b[39;00m \u001b[38;5;28;01mimport\u001b[39;00m Javascript\n\u001b[0;32m----> 2\u001b[0m \u001b[38;5;28;01mfrom\u001b[39;00m \u001b[38;5;21;01mgoogle\u001b[39;00m\u001b[38;5;21;01m.\u001b[39;00m\u001b[38;5;21;01mcolab\u001b[39;00m \u001b[38;5;28;01mimport\u001b[39;00m output\n\u001b[1;32m      3\u001b[0m \u001b[38;5;28;01mfrom\u001b[39;00m \u001b[38;5;21;01mbase64\u001b[39;00m \u001b[38;5;28;01mimport\u001b[39;00m b64decode\n\u001b[1;32m      4\u001b[0m \u001b[38;5;28;01mfrom\u001b[39;00m \u001b[38;5;21;01mio\u001b[39;00m \u001b[38;5;28;01mimport\u001b[39;00m BytesIO\n",
      "\u001b[0;31mModuleNotFoundError\u001b[0m: No module named 'google.colab'"
     ]
    }
   ],
   "source": [
    "from IPython.display import Javascript\n",
    "from google.colab import output\n",
    "from base64 import b64decode\n",
    "from io import BytesIO\n",
    "!pip -q install pydub\n",
    "from pydub import AudioSegment\n",
    "\n",
    "RECORD = \"\"\"\n",
    "const sleep  = time => new Promise(resolve => setTimeout(resolve, time))\n",
    "const b2text = blob => new Promise(resolve => {\n",
    "  const reader = new FileReader()\n",
    "  reader.onloadend = e => resolve(e.srcElement.result)\n",
    "  reader.readAsDataURL(blob)\n",
    "})\n",
    "var record = time => new Promise(async resolve => {\n",
    "  stream = await navigator.mediaDevices.getUserMedia({ audio: true })\n",
    "  recorder = new MediaRecorder(stream)\n",
    "  chunks = []\n",
    "  recorder.ondataavailable = e => chunks.push(e.data)\n",
    "  recorder.start()\n",
    "  await sleep(time)\n",
    "  recorder.onstop = async ()=>{\n",
    "    blob = new Blob(chunks)\n",
    "    text = await b2text(blob)\n",
    "    resolve(text)\n",
    "  }\n",
    "  recorder.stop()\n",
    "})\n",
    "\"\"\"\n",
    "\n",
    "def record(sec=3):\n",
    "  display(Javascript(RECORD))\n",
    "  s = output.eval_js('record(%d)' % (sec*1000))\n",
    "  b = b64decode(s.split(',')[1])\n",
    "  audio = AudioSegment.from_file(BytesIO(b))\n",
    "  return audio"
   ]
  },
  {
   "cell_type": "code",
   "execution_count": null,
   "metadata": {
    "id": "cQimd18eORhb"
   },
   "outputs": [],
   "source": [
    "from matplotlib import pyplot as plt\n",
    "import numpy as np\n",
    "import scipy.io.wavfile\n",
    "import io\n",
    "import os\n",
    "\n",
    "#### Please comment below line, if you already uploaded the 'recording.wav' in '/content/'\n",
    "!rm recording.wav\n",
    "\n",
    "#### You can run this module in the loop to record more repetitions of the digits.\n",
    "if os.path.isfile('recording.wav'):\n",
    "    print(\"wavefile exists, later part of the code uses 'recording.wav' as input speech\")\n",
    "else:\n",
    "    print(\"Recording the digits\")\n",
    "    wav = record(3.0) #It will record three seconds of your speech. You can change the duration. \n",
    "    wav = wav.set_frame_rate(16000)\n",
    "    sig=wav.get_array_of_samples()\n",
    "    samples=np.array(sig).T.astype(np.float32)\n",
    "    fp_arr = np.array(samples).T.astype(np.float32)\n",
    "    fp_arr /= np.iinfo(sig.typecode).max\n",
    "    scipy.io.wavfile.write('recording.wav', 16000, fp_arr) #Please change the name.\n"
   ]
  },
  {
   "cell_type": "markdown",
   "metadata": {
    "id": "5CvHw4GtJf7F"
   },
   "source": [
    "**Code to compute the signal's templates i.e Mel Frequency Cepstral Coefficients**"
   ]
  },
  {
   "cell_type": "code",
   "execution_count": null,
   "metadata": {
    "id": "8_lCTzWiJsDq"
   },
   "outputs": [],
   "source": [
    "import scipy.io.wavfile as wav\n",
    "def MFCC(wavfile):\n",
    "  ###########################\n",
    "  # Input  : Signal of length t\n",
    "  # Output : Templates of size (T,30) where T is the number of frames and 30 is dimension of the feature for each frame\n",
    "  ###########################\n",
    "  (rate,sig) = wav.read(wavfile)\n",
    "  sig=sig-np.mean(sig)\n",
    "  mfcc_feat=mfcc(sig,rate,numcep=30,winlen=0.025,winstep=0.01,nfilt=30,lowfreq=20,highfreq=7600,winfunc=np.hamming)\n",
    "  mfcc_feat_cmvn=speechpy.processing.cmvnw(mfcc_feat,win_size=301,variance_normalization=False)\n",
    "  return mfcc_feat_cmvn"
   ]
  },
  {
   "cell_type": "markdown",
   "metadata": {
    "id": "WzpLzJakJtyT"
   },
   "source": [
    "**Algorithm to perform isolated digit recognition**"
   ]
  },
  {
   "cell_type": "code",
   "execution_count": null,
   "metadata": {
    "id": "RoyuqUeuJ0cj"
   },
   "outputs": [],
   "source": []
  },
  {
   "cell_type": "markdown",
   "metadata": {
    "id": "J2H-3PthJ07i"
   },
   "source": [
    "**Plot the optimal DTW path**"
   ]
  },
  {
   "cell_type": "code",
   "execution_count": null,
   "metadata": {
    "id": "7TzvRPgoLIc_"
   },
   "outputs": [],
   "source": []
  },
  {
   "cell_type": "markdown",
   "metadata": {
    "id": "2iKbyq1vLIvI"
   },
   "source": [
    "**Compute the required metrics ( digit recognition accuracy ) and illustrations ( confusion matrix )**"
   ]
  },
  {
   "cell_type": "code",
   "execution_count": null,
   "metadata": {
    "id": "vgyMBSf7LT9B"
   },
   "outputs": [],
   "source": []
  },
  {
   "cell_type": "markdown",
   "metadata": {
    "id": "9iucBYQvled3"
   },
   "source": [
    "\n",
    "**Part3**\n",
    "\n",
    "In this part of the assignment, we expect you to evaluate the above-written digit recognition system performance on different test cases and understand the pros and cons of the DTW algorithm.  \n",
    "1. Evaluate the performance of digit recognition systems on the TDGIT database shared with you and report the accuracy.\n",
    "2. Evaluate the performance in different cases, i.e., a pair of templates with the same speaker and a different speaker. \n",
    "3. Please report some of the changes to improve the system performance."
   ]
  },
  {
   "cell_type": "code",
   "execution_count": null,
   "metadata": {
    "id": "iCRLzihToG2s"
   },
   "outputs": [],
   "source": [
    "## Example code to load wavefiles from drive\n",
    "from google.colab import drive\n",
    "import os\n",
    "import soundfile as sf\n",
    "\n",
    "drive.mount('/content/drive')\n",
    "bacground_data_location='/content/drive/My Drive/PRML_Assignments/Programming_Assignment_05/data/digits_data/' #Change this location\n",
    "bacground_data_files=[]\n",
    "for root, dirs, files in os.walk(bacground_data_location):\n",
    "    for file in files:\n",
    "        if file.endswith(\".wav\"):\n",
    "             bacground_data_files.append(os.path.join(root, file))\n",
    "bacground_data_files = np.array(bacground_data_files)\n",
    "\n",
    "## Iterate through the files and load them using \"sig,sr = sf.read(filename)\"\"\n"
   ]
  }
 ],
 "metadata": {
  "colab": {
   "collapsed_sections": [],
   "name": "PRML_Assignment05_new.ipynb",
   "provenance": []
  },
  "kernelspec": {
   "display_name": "Python 3",
   "language": "python",
   "name": "python3"
  },
  "language_info": {
   "codemirror_mode": {
    "name": "ipython",
    "version": 3
   },
   "file_extension": ".py",
   "mimetype": "text/x-python",
   "name": "python",
   "nbconvert_exporter": "python",
   "pygments_lexer": "ipython3",
   "version": "3.8.10"
  }
 },
 "nbformat": 4,
 "nbformat_minor": 1
}
