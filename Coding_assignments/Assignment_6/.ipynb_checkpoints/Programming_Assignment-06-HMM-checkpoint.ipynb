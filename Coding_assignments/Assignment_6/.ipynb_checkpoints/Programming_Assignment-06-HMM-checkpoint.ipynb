{
 "cells": [
  {
   "cell_type": "markdown",
   "metadata": {
    "id": "wVmT47LOBy6i"
   },
   "source": [
    " <center> <h1> <b> Pattern Recognition and Machine Learning (EE5610) </b> </h1> </center>\n",
    "\n",
    "<b> Programming Assignment - 06 - Isolated digit recognition using Hidden Markov Model (HMM) </b>\n",
    "\n",
    "<b> Instructions </b>\n",
    "1. Plagiarism is strictly prohibited.\n",
    "2. Delayed submissions will be penalized with a scaling factor of 0.5 per day.\n",
    "3. Please DO NOT use any machine learning libraries unless and otherwise specified.\n",
    "\n",
    "\n",
    "\n",
    "<b> Assignment on Hidden Markov Models </b> <br>\n",
    "We expect you to learn to build HMMs in this programming assignment. The skeleton code is provided for you to understand the algorithm. In the later part of the assignment, you need to build an N state HMM to perform isolated digit recognition task\\. Isolated digit recognition is the task of recognizing the digit from the test speech signal having a single digit in isolation.\n",
    "\n",
    "\n"
   ]
  },
  {
   "cell_type": "markdown",
   "metadata": {
    "id": "_XYvdsjEFE7d"
   },
   "source": [
    "**Part 1): Understanding the parameters of the Hidden Markov Model (HMM)**\n",
    "\n",
    "In this part of the assignment, you will understand the functionality of the different parameters of the Hidden Markov Model (HMM). Specifically, we will sample the observations from the HMM model with different parameters to understand their influence. Let us consider the 4-state HMM with 2D observations and assume that the states of the HMM follow the Gaussian distribution. \n",
    " \n",
    "1. **Understanding the functionality of transition matrix** : \n",
    "\n",
    "  i. Change the transition matrix of the HMM i.e skipping some transitions, having different strengths for particular state transitions, etc \n",
    "\n",
    "  ii. Sample the sequence of observations with the original and altered transition matrix and plot them\n",
    "\n",
    "  iii. Write your obervations for each case in the report. \n",
    "\n",
    "2. **Understanding the functionality of emission probability** : \n",
    "\n",
    "  i. Change the mean of the Gaussian in each state of the HMM i.e means as conrners of sqaures  etc.\n",
    "\n",
    "  ii. Change covariance matrix of the Gaussian in each state of the HMM i.e Isotropic, diagonal, full etc. \n",
    "\n",
    "  ii. Sample the sequence of observations with the original and altered Gausian distribution and plot them\n",
    "  \n",
    "  iii. Write your obervations for each case in the report."
   ]
  },
  {
   "cell_type": "code",
   "execution_count": 1,
   "metadata": {
    "id": "6JvkIwm_SX52"
   },
   "outputs": [
    {
     "name": "stdout",
     "output_type": "stream",
     "text": [
      "Collecting hmmlearn\n",
      "  Downloading hmmlearn-0.2.7-cp38-cp38-manylinux_2_12_x86_64.manylinux2010_x86_64.whl (129 kB)\n",
      "\u001b[K     |████████████████████████████████| 129 kB 1.4 MB/s eta 0:00:01\n",
      "\u001b[?25hRequirement already satisfied: numpy>=1.10 in /home/solomon/.local/lib/python3.8/site-packages (from hmmlearn) (1.21.0)\n",
      "Requirement already satisfied: scikit-learn>=0.16 in /usr/local/lib/python3.8/dist-packages (from hmmlearn) (0.24.2)\n",
      "Requirement already satisfied: scipy>=0.19 in /home/solomon/.local/lib/python3.8/site-packages (from hmmlearn) (1.8.0)\n",
      "Requirement already satisfied: joblib>=0.11 in /usr/local/lib/python3.8/dist-packages (from scikit-learn>=0.16->hmmlearn) (1.1.0)\n",
      "Requirement already satisfied: threadpoolctl>=2.0.0 in /usr/local/lib/python3.8/dist-packages (from scikit-learn>=0.16->hmmlearn) (2.2.0)\n",
      "Installing collected packages: hmmlearn\n",
      "Successfully installed hmmlearn-0.2.7\n"
     ]
    },
    {
     "name": "stderr",
     "output_type": "stream",
     "text": [
      "/usr/lib/python3/dist-packages/requests/__init__.py:89: RequestsDependencyWarning: urllib3 (1.26.7) or chardet (3.0.4) doesn't match a supported version!\n",
      "  warnings.warn(\"urllib3 ({}) or chardet ({}) doesn't match a supported \"\n"
     ]
    }
   ],
   "source": [
    "#All imports\n",
    "!pip install hmmlearn\n",
    "from hmmlearn import hmm\n",
    "import numpy as np\n",
    "import librosa"
   ]
  },
  {
   "cell_type": "code",
   "execution_count": 3,
   "metadata": {
    "id": "OugC4Psb9pdw"
   },
   "outputs": [],
   "source": [
    "#You can use the built in hmm functions to generate the samples\n",
    "#Set different types of transition matrix as initialization and generate the observations\n",
    "#Let us use the four state hmm\n",
    "\n",
    "#Set the prior probabilities. Note: It should follow the axioms of probability.\n",
    "startprob = np.array([0.25, 0.25, 0.25, 0.25])\n",
    "\n",
    "#Initialize the mean of the Gaussian in each state ( four states with single gaussian ) \n",
    "means = np.array([ [0, 0] , [1, 0] , [0, 1] , [1, 1] ])\n",
    "\n",
    "#Initialize the covariance of the Gaussians in each state \n",
    "covars = np.array([[[0.01, 0.002], [0.002, 0.01]], [[0.01, 0.002], [0.002, 0.01]],\n",
    "                   [[0.01, 0.002], [0.002, 0.01]], [[0.01, 0.002], [0.002, 0.01]]]) \n",
    "\n",
    "#Initialize the transition matrix of the HMM \n",
    "transmat = np.array([[0.5, 0.2, 0.1, 0.2], [0.1, 0.5, 0.2, 0.2], [0.05, 0.1 ,0.8, 0.05], [0, 0, 0, 1]]) \n",
    "\n",
    "#Build an HMM instance \n",
    "model = hmm.GaussianHMM(n_components=4, covariance_type=\"full\") #hmm.HMMGMM() for replacing the single Gaussian with the Mixture of Gaussians\n",
    "\n",
    "# Set the above parameters in hmm model ( ) \n",
    "model.startprob_ = startprob\n",
    "model.transmat_ = transmat\n",
    "model.means_ = means\n",
    "model.covars_ = covars\n",
    "\n",
    "\n",
    "# Sample observation sequence of 500 length from the HMM model\n",
    "X, Z = model.sample(500)\n",
    "\n",
    "\n",
    "# Plot the observation sequence\n",
    "\n",
    "\n"
   ]
  },
  {
   "cell_type": "code",
   "execution_count": 8,
   "metadata": {},
   "outputs": [
    {
     "data": {
      "text/plain": [
       "[<matplotlib.lines.Line2D at 0x7f38602ed760>]"
      ]
     },
     "execution_count": 8,
     "metadata": {},
     "output_type": "execute_result"
    },
    {
     "data": {
      "image/png": "[encoded data removed]",
      "text/plain": [
       "<Figure size 432x288 with 1 Axes>"
      ]
     },
     "metadata": {
      "needs_background": "light"
     },
     "output_type": "display_data"
    }
   ],
   "source": [
    "import matplotlib.pyplot as plt\n",
    "\n",
    "plt.plot(X[0, :], X[1, :])"
   ]
  },
  {
   "cell_type": "code",
   "execution_count": null,
   "metadata": {},
   "outputs": [],
   "source": []
  },
  {
   "cell_type": "markdown",
   "metadata": {
    "id": "2C8qNvPcE-GY"
   },
   "source": [
    "**Part 2): Isolated Digit Recognition**\n",
    "\n",
    "In this part of assignment you have to implement the isolated digit recognition system using HMM.\n",
    "1. Record 5 to 10 repetition each of digits zero,one,two,three,four,five,six,seven,eight and nine (for testing on recorded data). (The modules to record the voice in online mode are provided here. If you are not comfortable using the online recording modules, you can record the digits offline and access them in google colab through proper codes.)\n",
    "2. Compute MFCC features ( sequence of observations). (The codes to compute the signal's templates ( Mel Frequency Cepstral Coefficients ) are provided. Please use them to obtain the templates of the speech signals.)\n",
    "3. Train a N state HMM model for each digit and store the model\n",
    "3. Compute the probability of generating test observation sequence given the trained model of the digits. P(O/λw)\n",
    "4. Get the predicted label from P(O/λw) where 0<=w<=9\n",
    "5. Repeat the above experiment by increasing number of states (N) in word HMM ranging from 5 to 15. Report your accuracy and observations.\n",
    "6. Repeat the above experiment with varying the number of states across the digits i.e you may use large number of states for large digits. Report the accuracy and observations.\n",
    "7. Experiment with GMM and Single Gaussian for both single speaker ( recorded  ) and multiple speakers ( provided ) digits data base. Write the digit recognition accuracy, i.e., the percentage of correctly recognized trials out of each digit's total number of attempts and report your analysis in the report section.\n",
    "7. Create a confusion matrix and report the most confusing digits.\n",
    "8. Compare the performance with that obtained using DTW algorithm (in previous assignment).\n",
    "\n",
    "[link to multi speaker digit data base](https://drive.google.com/drive/folders/1faRFWAkGA8tEm_g5VbDyZCvmsn05CWT6?usp=sharing)"
   ]
  },
  {
   "cell_type": "markdown",
   "metadata": {
    "id": "m480_vmo-PDO"
   },
   "source": [
    "**Module to record the voice in online mode**"
   ]
  },
  {
   "cell_type": "code",
   "execution_count": null,
   "metadata": {
    "id": "3JKlP1yv-NTQ"
   },
   "outputs": [],
   "source": [
    "from IPython.display import Javascript\n",
    "from google.colab import output\n",
    "from base64 import b64decode\n",
    "from io import BytesIO\n",
    "!pip -q install pydub\n",
    "from pydub import AudioSegment\n",
    "\n",
    "RECORD = \"\"\"\n",
    "const sleep  = time => new Promise(resolve => setTimeout(resolve, time))\n",
    "const b2text = blob => new Promise(resolve => {\n",
    "  const reader = new FileReader()\n",
    "  reader.onloadend = e => resolve(e.srcElement.result)\n",
    "  reader.readAsDataURL(blob)\n",
    "})\n",
    "var record = time => new Promise(async resolve => {\n",
    "  stream = await navigator.mediaDevices.getUserMedia({ audio: true })\n",
    "  recorder = new MediaRecorder(stream)\n",
    "  chunks = []\n",
    "  recorder.ondataavailable = e => chunks.push(e.data)\n",
    "  recorder.start()\n",
    "  await sleep(time)\n",
    "  recorder.onstop = async ()=>{\n",
    "    blob = new Blob(chunks)\n",
    "    text = await b2text(blob)\n",
    "    resolve(text)\n",
    "  }\n",
    "  recorder.stop()\n",
    "})\n",
    "\"\"\"\n",
    "\n",
    "def record(sec=3):\n",
    "  display(Javascript(RECORD))\n",
    "  s = output.eval_js('record(%d)' % (sec*1000))\n",
    "  b = b64decode(s.split(',')[1])\n",
    "  audio = AudioSegment.from_file(BytesIO(b))\n",
    "  return audio"
   ]
  },
  {
   "cell_type": "code",
   "execution_count": null,
   "metadata": {
    "id": "Nk2Bafd0-ftW"
   },
   "outputs": [],
   "source": [
    "from matplotlib import pyplot as plt\n",
    "import numpy as np\n",
    "import scipy.io.wavfile\n",
    "import io\n",
    "import os\n",
    "\n",
    "#### Please comment below line, if you already uploaded the 'recording.wav' in '/content/'\n",
    "!rm recording.wav\n",
    "\n",
    "#### You can run this module in the loop to record more repetitions of the digits.\n",
    "if os.path.isfile('recording.wav'):\n",
    "    print(\"wavefile exists, later part of the code uses 'recording.wav' as input speech\")\n",
    "else:\n",
    "    print(\"Recording the digits\")\n",
    "    wav = record(3.0) #It will record three seconds of your speech. You can change the duration. \n",
    "    wav = wav.set_frame_rate(16000)\n",
    "    sig=wav.get_array_of_samples()\n",
    "    samples=np.array(sig).T.astype(np.float32)\n",
    "    fp_arr = np.array(samples).T.astype(np.float32)\n",
    "    fp_arr /= np.iinfo(sig.typecode).max\n",
    "    scipy.io.wavfile.write('recording.wav', 16000, fp_arr) #Please change the name."
   ]
  },
  {
   "cell_type": "markdown",
   "metadata": {
    "id": "JiYEW-MM-s-X"
   },
   "source": [
    "**Code to compute the signal's templates i.e Mel Frequency Cepstral Coefficients**"
   ]
  },
  {
   "cell_type": "code",
   "execution_count": null,
   "metadata": {
    "id": "Adz8ICzR-ucf"
   },
   "outputs": [],
   "source": [
    "!pip -q install python_speech_features\n",
    "!pip -q install speechpy\n",
    "from python_speech_features import mfcc\n",
    "import speechpy\n",
    "import scipy.io.wavfile as wav\n",
    "def MFCC(wavfile):\n",
    "  ###########################\n",
    "  # Input  : Signal of length t\n",
    "  # Output : Templates of size (T,30) where T is the number of frames and 30 is dimension of the feature for each frame\n",
    "  ###########################\n",
    "  (rate,sig) = wav.read(wavfile)\n",
    "  sig=sig-np.mean(sig)\n",
    "  mfcc_feat=mfcc(sig,rate,numcep=30,winlen=0.025,winstep=0.01,nfilt=30,lowfreq=20,highfreq=7600,winfunc=np.hamming)\n",
    "  mfcc_feat_cmvn=speechpy.processing.cmvnw(mfcc_feat,win_size=301,variance_normalization=False)\n",
    "  return mfcc_feat_cmvn"
   ]
  },
  {
   "cell_type": "markdown",
   "metadata": {
    "id": "cns29KhMzx1O"
   },
   "source": [
    "**Write a function to train Hidden Markov Model (HMM) and return the trained models**"
   ]
  },
  {
   "cell_type": "code",
   "execution_count": null,
   "metadata": {
    "id": "RiDXdEjFznhn"
   },
   "outputs": [],
   "source": [
    "def hmm(TrainingDataset):\n",
    "    #Input trainng dataset\n",
    "    #Output trained HMM models\n",
    "    #You may use \"hmm.GMMHMM\" or \"hmm.GaussianHMM\" function and fit method to train the models \n",
    "    #Experiment with GMM and Single Gaussian for both single speaker ( recorded  ) and multiple speakers ( provided ) digits data base. \n",
    "\n",
    "\n",
    "\n",
    "    #Return the trained model\n",
    "\n",
    "    "
   ]
  },
  {
   "cell_type": "markdown",
   "metadata": {
    "id": "O71f9Rvl0iQJ"
   },
   "source": [
    "**Write a function to perform isolated digit recognition**"
   ]
  },
  {
   "cell_type": "code",
   "execution_count": null,
   "metadata": {
    "id": "4KCNfmGznk-N"
   },
   "outputs": [],
   "source": [
    "def TrainTestSplit(datadir,TrainPercentage): \n",
    "    #Takes input as the data set location and percentage of training data to be used\n",
    "\n",
    "\n",
    "\n",
    "\n",
    "    #Compute MFCC features ( delta and delta+delta ) ( you can use built in functions )\n",
    "\n",
    "\n",
    "\n",
    "\n",
    "    #Return the data set \n",
    "\n",
    "\n",
    "\n",
    "\n",
    "\n"
   ]
  },
  {
   "cell_type": "code",
   "execution_count": null,
   "metadata": {
    "id": "xQ3ABBcj0hbK"
   },
   "outputs": [],
   "source": [
    "def IsolatedDigitRecognition():\n",
    "    trainDir = '/content/drive/MyDrive/datadir/' #Location to your data directory in google drive\n",
    "    #Load data from the data directory ( use TrainTestSplit function to get separate splits )\n",
    "    Train_data, Test_data = TrainTestSplit() # Pass the arguments\n",
    "\n",
    "\n",
    "    #Train HMM models for all the digits ( zero,one,two,three,four,five,six,seven,eight,nine and ten )\n",
    "\n",
    "\n",
    "\n",
    "    #Testing \n",
    "    #Iterate through the test data set\n",
    "\n",
    "\n",
    "\n",
    "      #Extract the features for test speech signal\n",
    "\n",
    "\n",
    "\n",
    "      #Compute the probability of generating sequece of observations ( test speech signal MFCC features ) given the trained hmm models of the digits p(O/Trained word model)\n",
    "\n",
    "\n",
    "\n",
    "      #Get the digit model achieving highest probability in generating the sequence\n",
    "\n",
    "\n",
    "\n",
    "\n",
    "  # We have original labels of the test data and predicted labels from the Hidden Markov Models (HMM)\n",
    "  # Compute the test accuracy and report in the observations\n",
    "\n",
    "  "
   ]
  },
  {
   "cell_type": "code",
   "execution_count": null,
   "metadata": {
    "id": "phVJEk08R_qH"
   },
   "outputs": [],
   "source": [
    "# Confusion matrix\n",
    "\n",
    "\n",
    "\n"
   ]
  },
  {
   "cell_type": "markdown",
   "metadata": {
    "id": "jpD8yXVl5Jef"
   },
   "source": [
    "**Report**\n",
    "\n",
    "1.\n",
    "\n",
    "2.\n",
    "\n",
    "3."
   ]
  }
 ],
 "metadata": {
  "colab": {
   "collapsed_sections": [],
   "name": "Programming_Assignment_06_HMM.ipynb",
   "provenance": []
  },
  "kernelspec": {
   "display_name": "Python 3",
   "language": "python",
   "name": "python3"
  },
  "language_info": {
   "codemirror_mode": {
    "name": "ipython",
    "version": 3
   },
   "file_extension": ".py",
   "mimetype": "text/x-python",
   "name": "python",
   "nbconvert_exporter": "python",
   "pygments_lexer": "ipython3",
   "version": "3.8.10"
  }
 },
 "nbformat": 4,
 "nbformat_minor": 1
}
